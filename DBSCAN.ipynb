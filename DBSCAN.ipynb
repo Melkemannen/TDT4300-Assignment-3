{
  "cells": [
    {
      "cell_type": "markdown",
      "metadata": {
        "id": "gZP1J6CU-O2Q"
      },
      "source": [
        "# Import different libraries\n",
        "\n",
        "In this task we want to use [sklearn](https://scikit-learn.org/stable/modules/generated/sklearn.cluster.DBSCAN.html) library for DBSCAN implementation."
      ]
    },
    {
      "cell_type": "code",
      "execution_count": 2,
      "metadata": {
        "id": "MubH-H146UsX"
      },
      "outputs": [],
      "source": [
        "import numpy as np\n",
        "from sklearn import metrics\n",
        "from sklearn.cluster import DBSCAN\n",
        "import matplotlib.pyplot as plt"
      ]
    },
    {
      "cell_type": "markdown",
      "metadata": {
        "id": "18hIX21XjcsP"
      },
      "source": [
        "# Example usage of DBSCAN:"
      ]
    },
    {
      "cell_type": "code",
      "execution_count": 3,
      "metadata": {
        "id": "DVKrrnLCjcQj"
      },
      "outputs": [
        {
          "data": {
            "text/plain": [
              "array([ 0,  0,  0,  1,  1, -1])"
            ]
          },
          "execution_count": 3,
          "metadata": {},
          "output_type": "execute_result"
        }
      ],
      "source": [
        "# Define the data you want to cluster\n",
        "X = np.array([[1, 2], [2, 2], [2, 3],\n",
        "              [8, 7], [8, 8], [25, 80]])\n",
        "\n",
        "# Define your desired clustering\n",
        "clustering = DBSCAN(eps=3, min_samples=2).fit(X)\n",
        "\n",
        "# Retrive the clustering result (Noisy samples are given the label -1)\n",
        "clustering.labels_"
      ]
    },
    {
      "cell_type": "markdown",
      "metadata": {
        "id": "ghuXTUgK_1dg"
      },
      "source": [
        "# Data\n",
        "\n",
        "We need to define the data here"
      ]
    },
    {
      "cell_type": "code",
      "execution_count": null,
      "metadata": {
        "id": "qf-iyovY_hp6"
      },
      "outputs": [
        {
          "name": "stdout",
          "output_type": "stream",
          "text": [
            "Array of points\n",
            "[[ 7  2]\n",
            " [ 2  9]\n",
            " [10  5]\n",
            " [ 4 11]\n",
            " [12  3]\n",
            " [11  8]\n",
            " [ 5 10]\n",
            " [ 3  7]\n",
            " [ 9  4]\n",
            " [ 6  2]\n",
            " [13 12]\n",
            " [ 8  6]\n",
            " [ 1 14]\n",
            " [10  1]\n",
            " [ 7 11]]\n"
          ]
        }
      ],
      "source": [
        "# TODO: define the data as a 2d numpy array with the values provided in the assignment\n",
        "X = np.array([[7, 2], [2, 9], [10, 5], [4, 11], [12, 3], [11, 8], [5, 10], [3, 7],\n",
        "              [9, 4], [6, 2], [13, 12], [8, 6], [1, 14], [10, 1], [7, 11]])\n",
        "\n",
        "assert X is not None, \"You did not define the data yet!\"\n",
        "print(\"Array of points\")\n",
        "print(X)"
      ]
    },
    {
      "cell_type": "markdown",
      "metadata": {
        "id": "IbJHok6xCEmY"
      },
      "source": [
        "# Cluster\n",
        "\n",
        "Call and run the the sklearn DBSCAN."
      ]
    },
    {
      "cell_type": "code",
      "execution_count": 6,
      "metadata": {
        "id": "iWIT6BXwAMnf"
      },
      "outputs": [
        {
          "data": {
            "text/plain": [
              "array([ 0,  1,  0,  1,  0, -1,  1, -1,  0, -1, -1,  0, -1, -1,  1])"
            ]
          },
          "execution_count": 6,
          "metadata": {},
          "output_type": "execute_result"
        }
      ],
      "source": [
        "# TODO: define a clustering and fit it to the data\n",
        "clustering = DBSCAN(eps=3, min_samples=4).fit(X)\n",
        "assert clustering is not None, \"You did not define the clustering yet!\"\n",
        "\n",
        "labels = clustering.labels_\n",
        "labels"
      ]
    },
    {
      "cell_type": "code",
      "execution_count": 7,
      "metadata": {
        "id": "PQS4iGKDDooT"
      },
      "outputs": [
        {
          "name": "stdout",
          "output_type": "stream",
          "text": [
            "Estimated number of clusters: 2\n",
            "Estimated number of noise points: 6\n"
          ]
        }
      ],
      "source": [
        "# Number of clusters in labels, ignoring noise if present.\n",
        "n_clusters_ = len(set(labels)) - (1 if -1 in labels else 0)\n",
        "n_noise_ = list(labels).count(-1)\n",
        "\n",
        "print(\"Estimated number of clusters: %d\" % n_clusters_)\n",
        "print(\"Estimated number of noise points: %d\" % n_noise_)"
      ]
    },
    {
      "cell_type": "markdown",
      "metadata": {
        "id": "aYmJ8v0dFvtC"
      },
      "source": [
        "# Plot\n",
        "\n",
        "Use the following code to plot the clusters."
      ]
    },
    {
      "cell_type": "code",
      "execution_count": 8,
      "metadata": {
        "id": "3r6OwQHyEMFF"
      },
      "outputs": [
        {
          "data": {
            "image/png": "[encoded data removed]",
            "text/plain": [
              "<Figure size 640x480 with 1 Axes>"
            ]
          },
          "metadata": {},
          "output_type": "display_data"
        }
      ],
      "source": [
        "# TODO: Include this output in your report\n",
        "\n",
        "# Identify unique labels and core samples\n",
        "unique_labels = set(labels)\n",
        "core_samples_mask = np.zeros_like(labels, dtype=bool)\n",
        "core_samples_mask[clustering.core_sample_indices_] = True\n",
        "\n",
        "# Create the color map for clusters\n",
        "colors = [plt.cm.Spectral(each) for each in np.linspace(0, 1, len(unique_labels))]\n",
        "\n",
        "for k, col in zip(unique_labels, colors):\n",
        "    if k == -1:\n",
        "        # Skip noise points\n",
        "        continue\n",
        "\n",
        "    class_member_mask = labels == k\n",
        "\n",
        "    # Plot core samples\n",
        "    xy = X[class_member_mask & core_samples_mask]\n",
        "    plt.plot(\n",
        "        xy[:, 0],\n",
        "        xy[:, 1],\n",
        "        \"o\",\n",
        "        markerfacecolor=tuple(col),\n",
        "        markeredgecolor=\"k\",\n",
        "        markersize=14,\n",
        "    )\n",
        "\n",
        "    # Plot non-core samples\n",
        "    xy = X[class_member_mask & ~core_samples_mask]\n",
        "    plt.plot(\n",
        "        xy[:, 0],\n",
        "        xy[:, 1],\n",
        "        \"o\",\n",
        "        markerfacecolor=tuple(col),\n",
        "        markeredgecolor=\"k\",\n",
        "        markersize=6,\n",
        "    )\n",
        "\n",
        "plt.title(f\"Estimated number of clusters: {len(unique_labels) - (1 if -1 in unique_labels else 0)}\")\n",
        "plt.savefig('cluster.png')\n",
        "plt.show()"
      ]
    }
  ],
  "metadata": {
    "colab": {
      "provenance": []
    },
    "kernelspec": {
      "display_name": ".venv",
      "language": "python",
      "name": "python3"
    },
    "language_info": {
      "codemirror_mode": {
        "name": "ipython",
        "version": 3
      },
      "file_extension": ".py",
      "mimetype": "text/x-python",
      "name": "python",
      "nbconvert_exporter": "python",
      "pygments_lexer": "ipython3",
      "version": "3.12.6"
    }
  },
  "nbformat": 4,
  "nbformat_minor": 0
}
