{
  "nbformat": 4,
  "nbformat_minor": 0,
  "metadata": {
    "colab": {
      "provenance": []
    },
    "kernelspec": {
      "name": "python3",
      "display_name": "Python 3"
    },
    "language_info": {
      "name": "python"
    }
  },
  "cells": [
    {
      "cell_type": "markdown",
      "source": [
        "# Import different libraries\n",
        "\n",
        "In this task we want to use [sklearn](https://scikit-learn.org/stable/modules/generated/sklearn.cluster.DBSCAN.html) library for DBSCAN implementation."
      ],
      "metadata": {
        "id": "gZP1J6CU-O2Q"
      }
    },
    {
      "cell_type": "code",
      "execution_count": null,
      "metadata": {
        "id": "MubH-H146UsX"
      },
      "outputs": [],
      "source": [
        "import numpy as np\n",
        "from sklearn import metrics\n",
        "from sklearn.cluster import DBSCAN\n",
        "import matplotlib.pyplot as plt"
      ]
    },
    {
      "cell_type": "markdown",
      "source": [
        "# Example usage of DBSCAN:"
      ],
      "metadata": {
        "id": "18hIX21XjcsP"
      }
    },
    {
      "cell_type": "code",
      "source": [
        "# Define the data you want to cluster\n",
        "X = np.array([[1, 2], [2, 2], [2, 3],\n",
        "              [8, 7], [8, 8], [25, 80]])\n",
        "\n",
        "# Define your desired clustering\n",
        "clustering = DBSCAN(eps=3, min_samples=2).fit(X)\n",
        "\n",
        "# Retrive the clustering result (Noisy samples are given the label -1)\n",
        "clustering.labels_"
      ],
      "metadata": {
        "id": "DVKrrnLCjcQj"
      },
      "execution_count": null,
      "outputs": []
    },
    {
      "cell_type": "markdown",
      "source": [
        "# Data\n",
        "\n",
        "We need to define the data here"
      ],
      "metadata": {
        "id": "ghuXTUgK_1dg"
      }
    },
    {
      "cell_type": "code",
      "source": [
        "# TODO: define the data as a 2d numpy array with the values provided in the assignment\n",
        "X = None\n",
        "\n",
        "assert X is not None, \"You did not define the data yet!\""
      ],
      "metadata": {
        "id": "qf-iyovY_hp6"
      },
      "execution_count": null,
      "outputs": []
    },
    {
      "cell_type": "markdown",
      "source": [
        "# Cluster\n",
        "\n",
        "Call and run the the sklearn DBSCAN."
      ],
      "metadata": {
        "id": "IbJHok6xCEmY"
      }
    },
    {
      "cell_type": "code",
      "source": [
        "# TODO: define a clustering and fit it to the data\n",
        "clustering = None\n",
        "assert clustering is not None, \"You did not define the clustering yet!\"\n",
        "\n",
        "labels = clustering.labels_\n",
        "labels"
      ],
      "metadata": {
        "id": "iWIT6BXwAMnf"
      },
      "execution_count": null,
      "outputs": []
    },
    {
      "cell_type": "code",
      "source": [
        "# Number of clusters in labels, ignoring noise if present.\n",
        "n_clusters_ = len(set(labels)) - (1 if -1 in labels else 0)\n",
        "n_noise_ = list(labels).count(-1)\n",
        "\n",
        "print(\"Estimated number of clusters: %d\" % n_clusters_)\n",
        "print(\"Estimated number of noise points: %d\" % n_noise_)"
      ],
      "metadata": {
        "id": "PQS4iGKDDooT"
      },
      "execution_count": null,
      "outputs": []
    },
    {
      "cell_type": "markdown",
      "source": [
        "# Plot\n",
        "\n",
        "Use the following code to plot the clusters."
      ],
      "metadata": {
        "id": "aYmJ8v0dFvtC"
      }
    },
    {
      "cell_type": "code",
      "source": [
        "# TODO: Include this output in your report\n",
        "\n",
        "# Identify unique labels and core samples\n",
        "unique_labels = set(labels)\n",
        "core_samples_mask = np.zeros_like(labels, dtype=bool)\n",
        "core_samples_mask[clustering.core_sample_indices_] = True\n",
        "\n",
        "# Create the color map for clusters\n",
        "colors = [plt.cm.Spectral(each) for each in np.linspace(0, 1, len(unique_labels))]\n",
        "\n",
        "for k, col in zip(unique_labels, colors):\n",
        "    if k == -1:\n",
        "        # Skip noise points\n",
        "        continue\n",
        "\n",
        "    class_member_mask = labels == k\n",
        "\n",
        "    # Plot core samples\n",
        "    xy = X[class_member_mask & core_samples_mask]\n",
        "    plt.plot(\n",
        "        xy[:, 0],\n",
        "        xy[:, 1],\n",
        "        \"o\",\n",
        "        markerfacecolor=tuple(col),\n",
        "        markeredgecolor=\"k\",\n",
        "        markersize=14,\n",
        "    )\n",
        "\n",
        "    # Plot non-core samples\n",
        "    xy = X[class_member_mask & ~core_samples_mask]\n",
        "    plt.plot(\n",
        "        xy[:, 0],\n",
        "        xy[:, 1],\n",
        "        \"o\",\n",
        "        markerfacecolor=tuple(col),\n",
        "        markeredgecolor=\"k\",\n",
        "        markersize=6,\n",
        "    )\n",
        "\n",
        "plt.title(f\"Estimated number of clusters: {len(unique_labels) - (1 if -1 in unique_labels else 0)}\")\n",
        "plt.savefig('cluster.png')\n",
        "plt.show()"
      ],
      "metadata": {
        "id": "3r6OwQHyEMFF"
      },
      "execution_count": null,
      "outputs": []
    }
  ]
}